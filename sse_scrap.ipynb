{
 "metadata": {
  "name": "",
  "signature": "sha256:b93151c02068816a12bd89c6c07d24d41052964181e58e40f23202b314e5756e"
 },
 "nbformat": 3,
 "nbformat_minor": 0,
 "worksheets": [
  {
   "cells": [
    {
     "cell_type": "markdown",
     "metadata": {},
     "source": [
      "See also Selenium:\n",
      "\n",
      "http://bluegene8210.is-programmer.com/posts/37986.html\n",
      "\n",
      "http://docs.seleniumhq.org/\n"
     ]
    },
    {
     "cell_type": "code",
     "collapsed": false,
     "input": [
      "'''\n",
      "Stocks:\n",
      "COMMON_SSE_ZQPZ_GPLB_MCJS_SSAG_L  A\u80a1\n",
      "COMMON_SSE_ZQPZ_GPLB_MCJS_SSBG_L  B\u80a1\n",
      "COMMON_SSE_ZQPZ_GPLB_MCJS_SCFXDSSGP_L  \u9996\u6b21\u53d1\u578b\u5f85\u4e0a\u5e02\u80a1\u7968\n",
      "COMMON_SSE_ZQPZ_GPLB_MCJS_ZTSSGS_L     \u6682\u505c\u4e0a\u5e02\u80a1\u7968\n",
      "COMMON_SSE_ZQPZ_GPLB_MCJS_ZZSSGGJBXX_L \u7ec8\u6b62\u4e0a\u5e02\n",
      "\n",
      "Funds:\n",
      "COMMON_SSE_ZQPZ_JJLB_L\n",
      "\n",
      "Debts:\n",
      "COMMON_SSE_ZQPZ_ZQLB_GZLB_L  \u56fd\u503a\u5217\u8868\n",
      "COMMON_SSE_ZQPZ_ZQLB_DFZLB_L  \u5730\u65b9\u503a\n",
      "COMMON_SSE_ZQPZ_ZQLB_GSZQYZLB_L  \u516c\u53f8\u503a\u4f01\u4e1a\u503a\n",
      "COMMON_SSE_ZQPZ_ZQLB_KZHZLB_L \u53ef\u8f6c\u6362\u503a\n",
      "COMMON_SSE_ZQPZ_ZQLB_ZQHGLB_L \u503a\u5238\u56de\u8d2d\n",
      "COMMON_SSE_ZQPZ_ZQLB_FLZLB_L \u5206\u79bb\u503a\u5217\u8868\n",
      "\n",
      "Derivatives:\n",
      "COMMON_SSE_ZQPZ_QZ_QZLB_YDQ_L\n",
      "COMMON_SSE_ZQPZ_QZ_QZLB_WDQ_L\n",
      "\n",
      "''';"
     ],
     "language": "python",
     "metadata": {},
     "outputs": [],
     "prompt_number": 1
    },
    {
     "cell_type": "code",
     "collapsed": false,
     "input": [
      "import json"
     ],
     "language": "python",
     "metadata": {},
     "outputs": [],
     "prompt_number": 2
    },
    {
     "cell_type": "code",
     "collapsed": false,
     "input": [
      "import six\n",
      "from six.moves.urllib.request import urlopen, Request\n",
      "from six.moves.urllib.parse import urlencode"
     ],
     "language": "python",
     "metadata": {},
     "outputs": [],
     "prompt_number": 3
    },
    {
     "cell_type": "code",
     "collapsed": false,
     "input": [
      "import pandas as pd"
     ],
     "language": "python",
     "metadata": {},
     "outputs": [],
     "prompt_number": 4
    },
    {
     "cell_type": "code",
     "collapsed": false,
     "input": [
      "def _querysse(url, headers={}, **values):\n",
      "    referer = 'http://www.sse.com.cn/'\n",
      "    data = urlencode(values)\n",
      "    if six.PY3: data = data.encode('utf-8') # data should be bytes\n",
      "    req = Request(url, data)\n",
      "    req.add_header('Referer', referer)\n",
      "    req.headers.update(headers)\n",
      "    content = urlopen(req).read()\n",
      "    reply = json.loads(content.decode('utf-8'))\n",
      "    return reply['result']"
     ],
     "language": "python",
     "metadata": {},
     "outputs": [],
     "prompt_number": 5
    },
    {
     "cell_type": "code",
     "collapsed": false,
     "input": [
      "def get_company_info(code):\n",
      "    \"\"\"Get details of a company by company code.\n",
      "    \n",
      "    :param code: company code\n",
      "\n",
      "    \"\"\"\n",
      "    url = 'http://query.sse.com.cn/commonQuery.do'\n",
      "    reply = _querysse(url, sqlId='COMMON_SSE_ZQPZ_GP_GPLB_C', productid=code)\n",
      "    return reply"
     ],
     "language": "python",
     "metadata": {},
     "outputs": [],
     "prompt_number": 6
    },
    {
     "cell_type": "code",
     "collapsed": false,
     "input": [
      "def get_stock_list(category='A'):\n",
      "    \"\"\"Get stock code list of a specific type\n",
      "    \n",
      "    :param category: Can be A, B, IPO, Pause, or Quit, case sensitive.\n",
      "    \"\"\"\n",
      "    category_code = {'A': 'SSAG',\n",
      "                     'B': 'SSBG',\n",
      "                     'IPO': 'SCFXDSSGP',\n",
      "                     'Pause': 'ZTSSGS',\n",
      "                     'Quit': 'ZZSSGGJBXX'}\n",
      "    sqlid = 'COMMON_SSE_ZQPZ_GPLB_MCJS_%s_L' % category_code[category]\n",
      "    url = 'http://query.sse.com.cn/commonQuery.do' \n",
      "    reply = _querysse(url, sqlId=sqlid)\n",
      "    return reply"
     ],
     "language": "python",
     "metadata": {},
     "outputs": [],
     "prompt_number": 7
    },
    {
     "cell_type": "code",
     "collapsed": false,
     "input": [
      "def get_fund_list():\n",
      "    sqlid = 'COMMON_SSE_ZQPZ_JJLB_L'\n",
      "    url = 'http://query.sse.com.cn/commonQuery.do' \n",
      "    reply = _querysse(url, sqlId=sqlid)\n",
      "    return reply"
     ],
     "language": "python",
     "metadata": {},
     "outputs": [],
     "prompt_number": 8
    },
    {
     "cell_type": "code",
     "collapsed": false,
     "input": [
      "def get_bond_list(category='T'):\n",
      "    \"\"\"\n",
      "    \"\"\"\n",
      "    category_code = {'T': 'COMMON_SSE_ZQPZ_ZQLB_GZLB_L',\n",
      "                     'M': 'COMMON_SSE_ZQPZ_ZQLB_DFZLB_L',\n",
      "                     'C': 'COMMON_SSE_ZQPZ_ZQLB_GSZQYZLB_L',\n",
      "                     'Tr': 'COMMON_SSE_ZQPZ_ZQLB_KZHZLB_L',\n",
      "                     'R': 'COMMON_SSE_ZQPZ_ZQLB_ZQHGLB_L',\n",
      "                     'S': 'COMMON_SSE_ZQPZ_ZQLB_FLZLB_L'}\n",
      "    sqlid = category_code[category]\n",
      "    url = 'http://query.sse.com.cn/commonQuery.do' \n",
      "    reply = _querysse(url, sqlId=sqlid)\n",
      "    return reply"
     ],
     "language": "python",
     "metadata": {},
     "outputs": [],
     "prompt_number": 9
    },
    {
     "cell_type": "code",
     "collapsed": false,
     "input": [
      "def get_derivative_list():\n",
      "    sqlid = 'COMMON_SSE_ZQPZ_QZ_QZLB_YDQ_L'\n",
      "    url = 'http://query.sse.com.cn/commonQuery.do' \n",
      "    reply = _querysse(url, sqlId=sqlid)\n",
      "    return reply"
     ],
     "language": "python",
     "metadata": {},
     "outputs": [],
     "prompt_number": 10
    },
    {
     "cell_type": "markdown",
     "metadata": {},
     "source": [
      "# Demo"
     ]
    },
    {
     "cell_type": "markdown",
     "metadata": {},
     "source": [
      "## Get full list of A/B stocks"
     ]
    },
    {
     "cell_type": "code",
     "collapsed": false,
     "input": [
      "# get_stock_list()\n",
      "stocks = get_stock_list()\n",
      "df = pd.DataFrame(stocks)"
     ],
     "language": "python",
     "metadata": {},
     "outputs": [],
     "prompt_number": 11
    },
    {
     "cell_type": "code",
     "collapsed": false,
     "input": [
      "df.head()"
     ],
     "language": "python",
     "metadata": {},
     "outputs": [
      {
       "html": [
        "<div style=\"max-height:1000px;max-width:1500px;overflow:auto;\">\n",
        "<table border=\"1\" class=\"dataframe\">\n",
        "  <thead>\n",
        "    <tr style=\"text-align: right;\">\n",
        "      <th></th>\n",
        "      <th>FULLNAME</th>\n",
        "      <th>PRODUCTID</th>\n",
        "      <th>PRODUCTNAME</th>\n",
        "    </tr>\n",
        "  </thead>\n",
        "  <tbody>\n",
        "    <tr>\n",
        "      <th>0</th>\n",
        "      <td> \u4e0a\u6d77\u6d66\u4e1c\u53d1\u5c55\u94f6\u884c\u80a1\u4efd\u6709\u9650\u516c\u53f8</td>\n",
        "      <td> 600000</td>\n",
        "      <td> \u6d66\u53d1\u94f6\u884c</td>\n",
        "    </tr>\n",
        "    <tr>\n",
        "      <th>1</th>\n",
        "      <td> \u5e7f\u5dde\u767d\u4e91\u56fd\u9645\u673a\u573a\u80a1\u4efd\u6709\u9650\u516c\u53f8</td>\n",
        "      <td> 600004</td>\n",
        "      <td> \u767d\u4e91\u673a\u573a</td>\n",
        "    </tr>\n",
        "    <tr>\n",
        "      <th>2</th>\n",
        "      <td>     \u6b66\u6c49\u94a2\u94c1\u80a1\u4efd\u6709\u9650\u516c\u53f8</td>\n",
        "      <td> 600005</td>\n",
        "      <td> \u6b66\u94a2\u80a1\u4efd</td>\n",
        "    </tr>\n",
        "    <tr>\n",
        "      <th>3</th>\n",
        "      <td>     \u4e1c\u98ce\u6c7d\u8f66\u80a1\u4efd\u6709\u9650\u516c\u53f8</td>\n",
        "      <td> 600006</td>\n",
        "      <td> \u4e1c\u98ce\u6c7d\u8f66</td>\n",
        "    </tr>\n",
        "    <tr>\n",
        "      <th>4</th>\n",
        "      <td> \u4e2d\u56fd\u56fd\u9645\u8d38\u6613\u4e2d\u5fc3\u80a1\u4efd\u6709\u9650\u516c\u53f8</td>\n",
        "      <td> 600007</td>\n",
        "      <td> \u4e2d\u56fd\u56fd\u8d38</td>\n",
        "    </tr>\n",
        "  </tbody>\n",
        "</table>\n",
        "</div>"
       ],
       "metadata": {},
       "output_type": "pyout",
       "prompt_number": 12,
       "text": [
        "         FULLNAME PRODUCTID PRODUCTNAME\n",
        "0  \u4e0a\u6d77\u6d66\u4e1c\u53d1\u5c55\u94f6\u884c\u80a1\u4efd\u6709\u9650\u516c\u53f8    600000        \u6d66\u53d1\u94f6\u884c\n",
        "1  \u5e7f\u5dde\u767d\u4e91\u56fd\u9645\u673a\u573a\u80a1\u4efd\u6709\u9650\u516c\u53f8    600004        \u767d\u4e91\u673a\u573a\n",
        "2      \u6b66\u6c49\u94a2\u94c1\u80a1\u4efd\u6709\u9650\u516c\u53f8    600005        \u6b66\u94a2\u80a1\u4efd\n",
        "3      \u4e1c\u98ce\u6c7d\u8f66\u80a1\u4efd\u6709\u9650\u516c\u53f8    600006        \u4e1c\u98ce\u6c7d\u8f66\n",
        "4  \u4e2d\u56fd\u56fd\u9645\u8d38\u6613\u4e2d\u5fc3\u80a1\u4efd\u6709\u9650\u516c\u53f8    600007        \u4e2d\u56fd\u56fd\u8d38"
       ]
      }
     ],
     "prompt_number": 12
    },
    {
     "cell_type": "markdown",
     "metadata": {},
     "source": [
      "## Get company details"
     ]
    },
    {
     "cell_type": "code",
     "collapsed": false,
     "input": [
      "get_company_info(600000)"
     ],
     "language": "python",
     "metadata": {},
     "outputs": [
      {
       "metadata": {},
       "output_type": "pyout",
       "prompt_number": 13,
       "text": [
        "[{'CSRC_GREAT_CODE_DESC': '\u8d27\u5e01\u91d1\u878d\u670d\u52a1',\n",
        "  'E_MAIL_ADDRESS': 'bdo@spdb.com.cn',\n",
        "  'CSRC_MIDDLE_CODE_DESC': '-',\n",
        "  'WWW_ADDRESS': 'http://www.spdb.com.cn',\n",
        "  'SECURITY_30_DESC': '\u662f',\n",
        "  'STATE_CODE_B_DESC': '-',\n",
        "  'OFFICE_ZIP': '200002',\n",
        "  'COMPANY_CODE': '600000',\n",
        "  'COMPANY_ADDRESS': '\u4e0a\u6d77\u5e02\u6d66\u4e1c\u65b0\u533a\u6d66\u4e1c\u5357\u8def500\u53f7',\n",
        "  'SSE_CODE_DESC': '\u7efc\u5408',\n",
        "  'COMPANY_ABBR': '\u6d66\u53d1\u94f6\u884c',\n",
        "  'SECURITY_CODE_A_SZ': '-',\n",
        "  'SECURITY_ABBR_A': '\u6d66\u53d1\u94f6\u884c',\n",
        "  'SECURITY_CODE_B': '-',\n",
        "  'CSRC_CODE_DESC': '\u91d1\u878d\u4e1a',\n",
        "  'FULL_NAME_IN_ENGLISH': 'Shanghai Pudong Development Bank Co., Ltd',\n",
        "  'FOREIGN_LISTING_ADDRESS': '-',\n",
        "  'SECURITY_CODE_A': '600000',\n",
        "  'CHANGEABLE_BOND_ABBR': '-',\n",
        "  'LEGAL_REPRESENTATIVE': '\u5409\u6653\u8f89',\n",
        "  'CHANGEABLE_BOND_CODE': '-',\n",
        "  'STATE_CODE_A_DESC': '\u4e0a\u5e02',\n",
        "  'FOREIGN_LISTING_DESC': '\u5426',\n",
        "  'FULLNAME': '\u4e0a\u6d77\u6d66\u4e1c\u53d1\u5c55\u94f6\u884c\u80a1\u4efd\u6709\u9650\u516c\u53f8',\n",
        "  'OFFICE_ADDRESS': '\u4e0a\u6d77\u5e02\u4e2d\u5c71\u4e1c\u4e00\u8def12\u53f7',\n",
        "  'REPR_PHONE': '-',\n",
        "  'AREA_NAME_DESC': '\u4e0a\u6d77',\n",
        "  'ENGLISH_ABBR': 'spdb'}]"
       ]
      }
     ],
     "prompt_number": 13
    },
    {
     "cell_type": "code",
     "collapsed": false,
     "input": [],
     "language": "python",
     "metadata": {},
     "outputs": []
    }
   ],
   "metadata": {}
  }
 ]
}